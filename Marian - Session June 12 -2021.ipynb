{
 "cells": [
  {
   "cell_type": "markdown",
   "id": "3e046184",
   "metadata": {},
   "source": [
    "# Machine Learning Algorithms Explanation with Code Examples in Python"
   ]
  },
  {
   "cell_type": "markdown",
   "id": "e928bb0f",
   "metadata": {},
   "source": [
    "### Types of Machine Learning with example applications"
   ]
  },
  {
   "cell_type": "markdown",
   "id": "09a1e26f",
   "metadata": {},
   "source": [
    "![Machine Learning](required/ml_summary.jpg)\n"
   ]
  },
  {
   "cell_type": "markdown",
   "id": "28aaacc3",
   "metadata": {},
   "source": [
    "# Machine Learning \n",
    "\n",
    "<br>\n",
    "<br> \n",
    "\n",
    "<img src=\"required/ml_learns_human_notes.jpg\" width=\"300\"/>\n",
    "\n",
    "<br> \n",
    "<br> \n",
    "<br> \n",
    "\n",
    "<h3> ~ Tom M. Mitchell </h3>\n",
    "A computer program is said to learn from <strong> experience E </strong> with respect to some class of <strong> tasks T </strong> and <strong> performance measure P </strong>, if its <strong> performance at tasks in T, as measured by P, improves with experience E. </strong> \n",
    "\n",
    "\n",
    "<strong> STORY OF THE INTELLIGENT CHILD </strong>\n",
    "<br>\n",
    "<br> \n",
    "\n",
    "<img src=\"required/example_ml.jpeg\" width=\"300\"/>\n",
    "\n",
    "\n",
    "<br> \n",
    "<br> \n",
    "<br> \n",
    "\n",
    "\n",
    "\n",
    "<strong> In layman terms: </strong>\n",
    "\n",
    "Data scientist/ML Engineers give a task to a machine to complete. The input parameters are also specified. Some algorithms are also specified. All algorithms has some changeable parameters, when it is changed output will change accordingly. \n",
    "\n",
    "Now the machine will go through each data points in the total dataset given to it and try to complete the task and to give a solution/predict a solution. Sometimes it will be right or sometimes it will be wronng. The changeable parameter will get updated according to how close the predicted results are to the actual one. \n",
    "\n",
    "Thus based on the experience it acquired from the dataset (now the changeable parameters are updated iteratively) it will be able to predict an accurate result.\n",
    "\n",
    "<h3> ~ Arthur Samuel  </h3>\n",
    "Machine Learning is the subfield of computer science that gives <strong>“computers the ability to learn without being explicitly programmed.”</strong>\n",
    "\n",
    "\n",
    "<h3> Why do we need Machine Learning / Deep Learning? </h3>\n",
    "\n",
    "<br>\n",
    "<br> \n",
    "\n",
    "<img src=\"required/why_ml.png\" width=\"300\"/>\n",
    "\n",
    "\n",
    "<br> \n",
    "<br> \n",
    "<br> \n",
    "\n",
    "\n",
    "Let us take an example task to understand. In this task we wanted a machine/computer to classify animals based on their images. We can write explicit programs to take their parameters like their height, weight, color, eyes and many other features. So now we need to create a vector which represents each of the features for each of the photo. Right?\n",
    "\n",
    "<i><b>If height > 1 feet and weight > 15 lbs, then it could be a cat.</b></i>\n",
    "\n",
    "Yes, for this we need to find and write lots and lots of rules. But believe me if you write rules like this still it will end up in poor accuracy. <strong> What machine learning does is </strong> process the data with different kinds of algorithms and tells us which feature is more important to determine the animal. So instead of applying many sets of rules, we can simplify it based on set , and as a result, it gives us a higher accuracy. The previous method was not generalized enough to make predictions. "
   ]
  },
  {
   "cell_type": "markdown",
   "id": "c10eaaca",
   "metadata": {},
   "source": [
    "### What is the difference?\n",
    "\n",
    "Let us look at what are the difference between Machine Learning, Deep Learning and Artificial Intelligence.\n",
    "\n",
    "\n",
    "#### Artificial Intelligence ?\n",
    "\n",
    "AI means getting a computer to mimic human behavior in some way.\n",
    "<br>\n",
    "Artificial intelligence, then, refers to the output of a computer. The computer is doing something intelligent, so it’s exhibiting intelligence that is artificial.\n",
    "<br>\n",
    "The term AI doesn’t say anything about how those problems are solved.  There are many different techniques including rule-based or expert systems. And one category of techniques started becoming more widely used in the 1980s: machine learning.\n",
    "<br>\n",
    "\n",
    "#### Machine Learning ?\n",
    "\n",
    "Machine learning is a subset of AI, and it consists of the techniques that enable computers to figure things out from the data and deliver AI applications.\n",
    "<br>\n",
    "\n",
    "Think about how you learned to read. You didn’t sit down and learn spelling and grammar before picking up your first book. You read simple books, graduating to more complex ones over time. You actually learned the rules (and exceptions) of spelling and grammar from your reading. Put another way, you processed a lot of data and learned from it.\n",
    "<br>\n",
    "\n",
    "That’s exactly the idea with machine learning. Feed an algorithm (as opposed to your brain) a lot of data and let it figure things out. Feed an algorithm a lot of data on financial transactions, tell it which ones are fraudulent, and let it work out what indicates fraud so it can predict fraud in the future. Or feed it information about your customer base and let it figure out how best to segment them.\n",
    "<br>\n",
    "\n",
    "<strong> Note </strong>\n",
    "As these algorithms developed, they could tackle many problems. But some things that humans found easy (like speech or handwriting recognition) were still hard for machines. However, if machine learning is about mimicking how humans learn, why not go all the way and try to mimic the human brain? That’s the idea behind <strong> neural networks </strong>.\n",
    "<br>\n",
    "\n",
    "#### Deep Learning ?\n",
    "\n",
    "Put simply, deep learning is all about using neural networks with more neurons, layers, and interconnectivity. We’re still a long way off from mimicking the human brain in all its complexity, but we’re moving in that direction.\n",
    "\n",
    "<br>\n",
    "\n",
    "Deep Learning is a subset of machine learning, using many-layered neural networks to solve the hardest (for computers) problems.\n",
    "<br>\n"
   ]
  },
  {
   "cell_type": "markdown",
   "id": "3126156c",
   "metadata": {},
   "source": [
    "## Types of Machine Learning"
   ]
  },
  {
   "cell_type": "markdown",
   "id": "3078cfb5",
   "metadata": {},
   "source": [
    "## 1.1  Supervised Learning\n",
    "\n",
    "<br>\n",
    "<br> \n",
    "\n",
    "<img src=\"required/supervised_learning.png\" width=\"600\"/>\n",
    "\n",
    "<br> \n",
    "<br> \n",
    "<br> \n",
    "\n",
    "Given data in the form of examples with labels, we can feed a learning algorithm these example-label pairs one by one, allowing the algorithm to predict the label for each example, and giving it feedback as to whether it predicted the right answer or not. Over time, the algorithm will learn to approximate the exact nature of the relationship between examples and their labels. When fully-trained, the supervised learning algorithm will be able to observe a new, never-before-seen example and predict a good label for it.\n",
    "\n",
    "Examples:\n",
    "* Advertisement Popularity <br>\n",
    "* Spam Classification <br>\n",
    "* Face Recognition <br>"
   ]
  },
  {
   "cell_type": "markdown",
   "id": "e11425a3",
   "metadata": {},
   "source": [
    "## 1.2  Unsupervised Learning\n",
    "\n",
    "<br>\n",
    "<br> \n",
    "\n",
    "<img src=\"required/unsupervised_ml.png\" width=\"600\"/>\n",
    "\n",
    "<br> \n",
    "<br> \n",
    "<br> \n",
    "\n",
    "\n",
    "Unsupervised learning is very much the opposite of supervised learning. It features no labels. Instead, our algorithm would be fed a lot of data and given the tools to understand the properties of the data. From there, it can learn to group, cluster, and/or organize the data in a way such that a human (or other intelligent algorithm) can come in and make sense of the newly organized data.\n",
    "\n",
    "Examples:\n",
    "\n",
    "* Recommender Systems\n",
    "* Buying Habits\n",
    "* Grouping User Logs"
   ]
  },
  {
   "cell_type": "markdown",
   "id": "d8c23ec1",
   "metadata": {},
   "source": [
    "## 1.3  Reinforcement Learning\n",
    "\n",
    "<br>\n",
    "<br> \n",
    "\n",
    "<img src=\"required/reinforcement_learning.png\" width=\"500\"/>\n",
    "\n",
    "<br> \n",
    "<br> \n",
    "<br> \n",
    "\n",
    "In the game of Mario, our agent is our learning algorithm and our environment is the game (most likely a specific level). Our agent has a set of actions. These will be our button states. Our updated state will be each game frame as time passes and our reward signal will be the change in score. So long as we connect all these components together, we will have set up a reinforcement learning scenario to play the game Mario.\n",
    "\n",
    "https://www.youtube.com/watch?v=05rEefXlmhI <> AI learning Mario\n",
    "\n",
    "https://www.youtube.com/watch?v=qv6UVOQ0F44c <> MarI/0\n",
    "\n",
    "\n",
    "<img src=\"required/reinforcement2.png\" width=\"500\"/>\n",
    "\n",
    "<br> \n",
    "<br> \n",
    "<br> \n",
    "\n",
    "\n",
    "I prefer to look at reinforcement learning as learning from mistakes. Place a reinforcement learning algorithm into any environment and it will make a lot of mistakes in the beginning. So long as we provide some sort of signal to the algorithm that associates good behaviors with a positive signal and bad behaviors with a negative one, we can reinforce our algorithm to prefer good behaviors over bad ones. Over time, our learning algorithm learns to make less mistakes than it used to.\n",
    "\n",
    "Examples:\n",
    "\n",
    "* Video Games\n",
    "* Industrial Simulation\n",
    "* Resource Management"
   ]
  },
  {
   "cell_type": "markdown",
   "id": "ee9633fa",
   "metadata": {},
   "source": [
    "## 1.4  Semi-Supervised Learning\n",
    "\n",
    "<br>\n",
    "<br> \n",
    "\n",
    "<img src=\"required/semi-supervised_learning.png\" width=\"300\"/>\n",
    "\n",
    "<br> \n",
    "<br> \n",
    "<br> \n",
    "\n",
    "\n",
    "Today’s Machine Learning algorithms can be broadly classified into three categories, Supervised Learning, Unsupervised Learning and Reinforcement Learning. Casting Reinforced Learning aside, the primary two categories of Machine Learning problems are Supervised and Unsupervised Learning. The basic difference between the two is that Supervised Learning datasets have an output label associated with each tuple while Unsupervised Learning datasets do not.\n",
    "\n",
    "The most basic disadvantage of any Supervised Learning algorithm is that the dataset has to be hand-labeled either by a Machine Learning Engineer or a Data Scientist. This is a very costly process, especially when dealing with large volumes of data. The most basic disadvantage of any Unsupervised Learning is that it’s application spectrum is limited.\n",
    "\n",
    "To counter these disadvantages, the concept of Semi-Supervised Learning was introduced. In this type of learning, the algorithm is trained upon a combination of labeled and unlabeled data. Typically, this combination will contain a very small amount of labeled data and a very large amount of unlabeled data. The basic procedure involved is that first, the programmer will cluster similar data using an unsupervised learning algorithm and then use the existing labeled data to label the rest of the unlabeled data. The typical use cases of such type of algorithm have a common property among them – The acquisition of unlabeled data is relatively cheap while labeling the said data is very expensive.\n",
    "\n",
    "Examples: \n",
    "\n",
    "* Speech Analysis\n",
    "* Internet Content Classification\n",
    "* Protein Sequence Classification"
   ]
  },
  {
   "cell_type": "markdown",
   "id": "0aad2b40",
   "metadata": {},
   "source": [
    "## Why do we prefer Python to implement Machine learning?\n",
    "\n",
    "<img src=\"required/python_ml.png\" width=\"700\"/>\n",
    "\n",
    "Python is one of the most popular and general-purpose programming language. Python is beginner friendly. The most obvious reason of Python becoming so popular among data scientists or ML Engineers is that Python has a huge number of modules and libraries already implemented. It has also massive community support.<br>\n",
    "\n",
    "<br>\n",
    "\n",
    "1. Tensorflow: TensorFlow is a free and open-source software library for machine learning. It can be used across a range of tasks but has a particular focus on training and inference of deep neural networks. Tensorflow is a symbolic math library based on dataflow and differentiable programming (source: Wikipedia)<br>\n",
    "\n",
    "<br>\n",
    "\n",
    "2. Pytorch: PyTorch is an open source machine learning library based on the Torch library, used for applications such as computer vision and natural language processing, primarily developed by Facebook's AI Research lab. It is free and open-source software released under the Modified BSD license. (source: Wikipedia) <br>\n",
    "\n",
    "<br>\n",
    "\n",
    "3. Keras: Keras is an open-source software library that provides a Python interface for artificial neural networks. Keras acts as an interface for the TensorFlow library. Up until version 2.3 Keras supported multiple backends, including TensorFlow, Microsoft Cognitive Toolkit, Theano, and PlaidML(source: Wikipedia) <br>\n",
    "\n",
    "<br>\n",
    "\n",
    "4. Numpy: It is a math library to work with n-dimensional arrays in Python. It enables us to do computations effectively and efficiently. <br>\n",
    "\n",
    "<br>\n",
    "\n",
    "5. Scipy: It is a collection of numerical algorithms and domain-specific tool-box, including signal processing, optimization, statistics, and much more. Scipy is a functional library for scientific and high-performance computations. <br>\n",
    "\n",
    "<br>\n",
    "\n",
    "6. Matplotlib: It is a trendy plotting package that provides 2D plotting as well as 3D plotting. <br>\n",
    "\n",
    "<br>\n",
    "\n",
    "7. Scikit-learn: It is a free machine learning library for python programming language. It has most of the classification, regression, and clustering algorithms, and works with Python numerical libraries such as Numpy, Scipy. <br>\n",
    "\n",
    "<br>\n",
    "\n",
    "8. and Many more \n"
   ]
  },
  {
   "cell_type": "markdown",
   "id": "8e366ff6",
   "metadata": {},
   "source": [
    "## Commonly used algorithms in Machine Learning"
   ]
  },
  {
   "cell_type": "markdown",
   "id": "de9b957f",
   "metadata": {},
   "source": [
    "Here is the list of commonly used machine learning algorithms. These algorithms can be applied to almost any data problem:\n",
    "\n",
    "* Linear Regression\n",
    "* Logistic Regression\n",
    "* Decision Tree\n",
    "* SVM\n",
    "* Naive Bayes\n",
    "* kNN\n",
    "* K-Means\n",
    "* Random Forest\n",
    "* Dimensionality Reduction Algorithms\n",
    "* Gradient Boosting algorithms\n",
    "* GBM\n",
    "* XGBoost\n",
    "* LightGBM\n",
    "* CatBoost"
   ]
  },
  {
   "cell_type": "markdown",
   "id": "05b687e5",
   "metadata": {},
   "source": [
    "## Linear Regression\n",
    "\n",
    "Linear Regression is a machine learning algorithm based on supervised learning. It performs a regression task. Regression models a target prediction value based on independent variables. It is mostly used for finding out the relationship between variables and forecasting. Different regression models differ based on – the kind of relationship between dependent and independent variables, they are considering and the number of independent variables being used.\n",
    "\n",
    "Graph Plotting <> https://www.transum.org/Maths/Activity/Graph/Desmos.asp\n",
    "\n",
    "<h5> An example </h5>\n",
    "<br>\n",
    "<img src=\"required/linear_regression.png\" width=\"300\"/>\n",
    "<br>\n",
    "\n",
    "<h5> Linear Equation </h5>\n",
    "<br>\n",
    "<img src=\"required/linear_equation.png\" width=\"300\"/>\n",
    "<br>\n",
    "\n",
    "\n",
    "<h5> Linear Regression Learning </h5>\n",
    "<br>\n",
    "<img src=\"required/optimization_lr.png\" width=\"800\"/>\n",
    "<br>\n",
    "\n",
    "\n",
    "<h5> Optimization </h5>\n",
    "<br>\n",
    "<img src=\"required/lr_fitting.gif\" width=\"800\"/>\n",
    "<br>\n",
    "\n",
    "\n",
    "\n",
    "Resources: \n",
    "1) https://towardsdatascience.com/introduction-to-machine-learning-algorithms-linear-regression-14c4e325882a  <br>\n",
    "2) https://www.geeksforgeeks.org/ml-linear-regression/#:~:text=Linear%20Regression%20is%20a%20machine,value%20based%20on%20independent%20variables.&text=Linear%20regression%20performs%20the%20task,given%20independent%20variable%20(x)."
   ]
  },
  {
   "cell_type": "markdown",
   "id": "30286dcd",
   "metadata": {},
   "source": [
    "## Setting up a jupyter notebook\n",
    "\n",
    "1) Install python <br>\n",
    "2) Install Jupyter notebook <br>\n",
    "3) Setup virtual environment <br>\n",
    "4) Activate virtual environment <br>\n",
    "5) Install required packages <br>\n",
    "6) Run command \"jupyter notebook\" <br>\n",
    "\n",
    "\n",
    "Checkout the article <> https://medium.datadriveninvestor.com/best-way-to-create-jupyter-notebook-in-python-virtual-environment-f74656b261fa"
   ]
  },
  {
   "cell_type": "markdown",
   "id": "238d3461",
   "metadata": {},
   "source": [
    "## Code <> Linear Regression\n"
   ]
  },
  {
   "cell_type": "code",
   "execution_count": 1,
   "id": "f3972993",
   "metadata": {},
   "outputs": [],
   "source": [
    "# !pip install pandas\n",
    "# !pip install sklearn\n",
    "# !pip install matplotlib\n",
    "# !pip install seaborn\n"
   ]
  },
  {
   "cell_type": "code",
   "execution_count": 16,
   "id": "f32afcb1",
   "metadata": {},
   "outputs": [],
   "source": [
    "# Importing the libraries\n",
    "import numpy as np\n",
    "import matplotlib.pyplot as plt\n",
    "import pandas as pd"
   ]
  },
  {
   "cell_type": "code",
   "execution_count": 23,
   "id": "e6430592",
   "metadata": {},
   "outputs": [
    {
     "name": "stdout",
     "output_type": "stream",
     "text": [
      "(30, 2)\n"
     ]
    },
    {
     "data": {
      "text/html": [
       "<div>\n",
       "<style scoped>\n",
       "    .dataframe tbody tr th:only-of-type {\n",
       "        vertical-align: middle;\n",
       "    }\n",
       "\n",
       "    .dataframe tbody tr th {\n",
       "        vertical-align: top;\n",
       "    }\n",
       "\n",
       "    .dataframe thead th {\n",
       "        text-align: right;\n",
       "    }\n",
       "</style>\n",
       "<table border=\"1\" class=\"dataframe\">\n",
       "  <thead>\n",
       "    <tr style=\"text-align: right;\">\n",
       "      <th></th>\n",
       "      <th>YearsExperience</th>\n",
       "      <th>Salary</th>\n",
       "    </tr>\n",
       "  </thead>\n",
       "  <tbody>\n",
       "    <tr>\n",
       "      <th>20</th>\n",
       "      <td>6.8</td>\n",
       "      <td>91738.0</td>\n",
       "    </tr>\n",
       "    <tr>\n",
       "      <th>21</th>\n",
       "      <td>7.1</td>\n",
       "      <td>98273.0</td>\n",
       "    </tr>\n",
       "    <tr>\n",
       "      <th>22</th>\n",
       "      <td>7.9</td>\n",
       "      <td>101302.0</td>\n",
       "    </tr>\n",
       "    <tr>\n",
       "      <th>23</th>\n",
       "      <td>8.2</td>\n",
       "      <td>113812.0</td>\n",
       "    </tr>\n",
       "    <tr>\n",
       "      <th>24</th>\n",
       "      <td>8.7</td>\n",
       "      <td>109431.0</td>\n",
       "    </tr>\n",
       "    <tr>\n",
       "      <th>25</th>\n",
       "      <td>9.0</td>\n",
       "      <td>105582.0</td>\n",
       "    </tr>\n",
       "    <tr>\n",
       "      <th>26</th>\n",
       "      <td>9.5</td>\n",
       "      <td>116969.0</td>\n",
       "    </tr>\n",
       "    <tr>\n",
       "      <th>27</th>\n",
       "      <td>9.6</td>\n",
       "      <td>112635.0</td>\n",
       "    </tr>\n",
       "    <tr>\n",
       "      <th>28</th>\n",
       "      <td>10.3</td>\n",
       "      <td>122391.0</td>\n",
       "    </tr>\n",
       "    <tr>\n",
       "      <th>29</th>\n",
       "      <td>10.5</td>\n",
       "      <td>121872.0</td>\n",
       "    </tr>\n",
       "  </tbody>\n",
       "</table>\n",
       "</div>"
      ],
      "text/plain": [
       "    YearsExperience    Salary\n",
       "20              6.8   91738.0\n",
       "21              7.1   98273.0\n",
       "22              7.9  101302.0\n",
       "23              8.2  113812.0\n",
       "24              8.7  109431.0\n",
       "25              9.0  105582.0\n",
       "26              9.5  116969.0\n",
       "27              9.6  112635.0\n",
       "28             10.3  122391.0\n",
       "29             10.5  121872.0"
      ]
     },
     "execution_count": 23,
     "metadata": {},
     "output_type": "execute_result"
    }
   ],
   "source": [
    "# Importing the dataset\n",
    "dataset = pd.read_csv('Data/linear_Regression/SimpleLinearRegression.csv')\n",
    "print(dataset.shape)\n",
    "dataset.tail(10)"
   ]
  },
  {
   "cell_type": "code",
   "execution_count": 4,
   "id": "0f4fe094",
   "metadata": {},
   "outputs": [
    {
     "data": {
      "image/png": "[encoded data removed]",
      "text/plain": [
       "<Figure size 432x288 with 1 Axes>"
      ]
     },
     "metadata": {
      "needs_background": "light"
     },
     "output_type": "display_data"
    }
   ],
   "source": [
    "plt.scatter(dataset['YearsExperience'], dataset['Salary'], color = 'red')\n",
    "plt.title('Salary vs Experience (Training set)')\n",
    "plt.xlabel('Years of Experience')\n",
    "plt.ylabel('Salary')\n",
    "plt.show()"
   ]
  },
  {
   "cell_type": "code",
   "execution_count": 29,
   "id": "b7d44329",
   "metadata": {},
   "outputs": [
    {
     "data": {
      "text/plain": [
       "30"
      ]
     },
     "execution_count": 29,
     "metadata": {},
     "output_type": "execute_result"
    }
   ],
   "source": [
    "X = dataset.iloc[:, :-1].values\n",
    "y = dataset.iloc[:, -1].values\n",
    "len(y)"
   ]
  },
  {
   "cell_type": "code",
   "execution_count": 28,
   "id": "251de141",
   "metadata": {},
   "outputs": [],
   "source": [
    "# Splitting the dataset into the Training set and Test set\n",
    "from sklearn.model_selection import train_test_split\n",
    "\n",
    "X_train, X_test, y_train, y_test = train_test_split(X, y, test_size = 1/3, random_state = 0)"
   ]
  },
  {
   "cell_type": "code",
   "execution_count": 33,
   "id": "9c582f04",
   "metadata": {},
   "outputs": [
    {
     "data": {
      "text/plain": [
       "(20, 10)"
      ]
     },
     "execution_count": 33,
     "metadata": {},
     "output_type": "execute_result"
    }
   ],
   "source": [
    "len(X_train), len(X_test)"
   ]
  },
  {
   "cell_type": "code",
   "execution_count": 34,
   "id": "af74add4",
   "metadata": {},
   "outputs": [
    {
     "data": {
      "text/plain": [
       "LinearRegression()"
      ]
     },
     "execution_count": 34,
     "metadata": {},
     "output_type": "execute_result"
    }
   ],
   "source": [
    "# Fitting Simple Linear Regression to the Training set\n",
    "from sklearn.linear_model import LinearRegression\n",
    "\n",
    "regressor = LinearRegression()\n",
    "regressor.fit(X_train, y_train)"
   ]
  },
  {
   "cell_type": "code",
   "execution_count": 35,
   "id": "b33a3da4",
   "metadata": {},
   "outputs": [],
   "source": [
    "# Predicting the Test set results\n",
    "y_pred = regressor.predict(X_test)"
   ]
  },
  {
   "cell_type": "code",
   "execution_count": 36,
   "id": "6c6bc72c",
   "metadata": {},
   "outputs": [
    {
     "data": {
      "text/plain": [
       "array([ 40835.10590871, 123079.39940819,  65134.55626083,  63265.36777221,\n",
       "       115602.64545369, 108125.8914992 , 116537.23969801,  64199.96201652,\n",
       "        76349.68719258, 100649.1375447 ])"
      ]
     },
     "execution_count": 36,
     "metadata": {},
     "output_type": "execute_result"
    }
   ],
   "source": [
    "y_pred"
   ]
  },
  {
   "cell_type": "code",
   "execution_count": 37,
   "id": "ac56c81e",
   "metadata": {},
   "outputs": [
    {
     "data": {
      "image/png": "[encoded data removed]",
      "text/plain": [
       "<Figure size 432x288 with 1 Axes>"
      ]
     },
     "metadata": {
      "needs_background": "light"
     },
     "output_type": "display_data"
    }
   ],
   "source": [
    "# Visualising the Training set results\n",
    "plt.scatter(X_train, y_train, color = 'red')\n",
    "plt.plot(X_train, regressor.predict(X_train), color = 'blue')\n",
    "plt.title('Salary vs Experience (Training set)')\n",
    "plt.xlabel('Years of Experience')\n",
    "plt.ylabel('Salary')\n",
    "plt.show()"
   ]
  },
  {
   "cell_type": "code",
   "execution_count": 38,
   "id": "655c6400",
   "metadata": {},
   "outputs": [
    {
     "data": {
      "image/png": "[encoded data removed]",
      "text/plain": [
       "<Figure size 432x288 with 1 Axes>"
      ]
     },
     "metadata": {
      "needs_background": "light"
     },
     "output_type": "display_data"
    }
   ],
   "source": [
    "# Visualising the Test set results\n",
    "plt.scatter(X_test, y_test, color = 'red')\n",
    "plt.plot(X_train, regressor.predict(X_train), color = 'blue')\n",
    "plt.title('Salary vs Experience (Test set)')\n",
    "plt.xlabel('Years of Experience')\n",
    "plt.ylabel('Salary')\n",
    "plt.show()"
   ]
  },
  {
   "cell_type": "markdown",
   "id": "eb7589db",
   "metadata": {},
   "source": [
    "\n",
    "## [Checkout real case Linear Regression Use Case](sales-prediction-simple-linear-regression.ipynb)\n",
    "\n",
    "[Another Example](https://www.kaggle.com/faressayah/linear-regression-house-price-prediction)"
   ]
  },
  {
   "cell_type": "markdown",
   "id": "02f9ac37",
   "metadata": {},
   "source": [
    "### Multiple Input Linear Regression\n",
    "\n",
    "<br>\n",
    "<img src=\"required/multiple_input.png\" width=\"400\"/>\n",
    "<br>\n",
    "\n",
    "<br>\n",
    "<img src=\"required/multi_inputs.png\" width=\"400\"/>\n",
    "<br>\n",
    "\n",
    "\n",
    "<br>\n",
    "<img src=\"required/cost_functions.png\" width=\"400\"/>\n",
    "<br>\n",
    "\n"
   ]
  },
  {
   "cell_type": "code",
   "execution_count": 39,
   "id": "c1dfa9b3",
   "metadata": {},
   "outputs": [
    {
     "data": {
      "text/html": [
       "<div>\n",
       "<style scoped>\n",
       "    .dataframe tbody tr th:only-of-type {\n",
       "        vertical-align: middle;\n",
       "    }\n",
       "\n",
       "    .dataframe tbody tr th {\n",
       "        vertical-align: top;\n",
       "    }\n",
       "\n",
       "    .dataframe thead th {\n",
       "        text-align: right;\n",
       "    }\n",
       "</style>\n",
       "<table border=\"1\" class=\"dataframe\">\n",
       "  <thead>\n",
       "    <tr style=\"text-align: right;\">\n",
       "      <th></th>\n",
       "      <th>TV</th>\n",
       "      <th>Radio</th>\n",
       "      <th>Newspaper</th>\n",
       "      <th>Sales</th>\n",
       "    </tr>\n",
       "  </thead>\n",
       "  <tbody>\n",
       "    <tr>\n",
       "      <th>0</th>\n",
       "      <td>230.1</td>\n",
       "      <td>37.8</td>\n",
       "      <td>69.2</td>\n",
       "      <td>22.1</td>\n",
       "    </tr>\n",
       "    <tr>\n",
       "      <th>1</th>\n",
       "      <td>44.5</td>\n",
       "      <td>39.3</td>\n",
       "      <td>45.1</td>\n",
       "      <td>10.4</td>\n",
       "    </tr>\n",
       "    <tr>\n",
       "      <th>2</th>\n",
       "      <td>17.2</td>\n",
       "      <td>45.9</td>\n",
       "      <td>69.3</td>\n",
       "      <td>12.0</td>\n",
       "    </tr>\n",
       "    <tr>\n",
       "      <th>3</th>\n",
       "      <td>151.5</td>\n",
       "      <td>41.3</td>\n",
       "      <td>58.5</td>\n",
       "      <td>16.5</td>\n",
       "    </tr>\n",
       "    <tr>\n",
       "      <th>4</th>\n",
       "      <td>180.8</td>\n",
       "      <td>10.8</td>\n",
       "      <td>58.4</td>\n",
       "      <td>17.9</td>\n",
       "    </tr>\n",
       "  </tbody>\n",
       "</table>\n",
       "</div>"
      ],
      "text/plain": [
       "      TV  Radio  Newspaper  Sales\n",
       "0  230.1   37.8       69.2   22.1\n",
       "1   44.5   39.3       45.1   10.4\n",
       "2   17.2   45.9       69.3   12.0\n",
       "3  151.5   41.3       58.5   16.5\n",
       "4  180.8   10.8       58.4   17.9"
      ]
     },
     "execution_count": 39,
     "metadata": {},
     "output_type": "execute_result"
    }
   ],
   "source": [
    "data = pd.read_csv('advertisement_app/Data/simple_lr_application/advertising.csv')\n",
    "data.head()"
   ]
  },
  {
   "cell_type": "code",
   "execution_count": 42,
   "id": "cc4b8092",
   "metadata": {},
   "outputs": [],
   "source": [
    "from sklearn.linear_model import LinearRegression\n",
    "\n",
    "X = data.drop('Sales', axis=1).values\n",
    "y = data.Sales.values"
   ]
  },
  {
   "cell_type": "code",
   "execution_count": 7,
   "id": "393ae0b4",
   "metadata": {},
   "outputs": [
    {
     "name": "stdout",
     "output_type": "stream",
     "text": [
      "0.9025912899684558\n"
     ]
    }
   ],
   "source": [
    "model = LinearRegression()\n",
    "model.fit(X, y)\n",
    "\n",
    "print(model.score(X, y))"
   ]
  },
  {
   "cell_type": "code",
   "execution_count": 8,
   "id": "ca622b1d",
   "metadata": {},
   "outputs": [],
   "source": [
    "predicted_X = model.predict(X)"
   ]
  },
  {
   "cell_type": "markdown",
   "id": "1b21edc4",
   "metadata": {},
   "source": [
    "#### To predict"
   ]
  },
  {
   "cell_type": "code",
   "execution_count": 49,
   "id": "4fd01067",
   "metadata": {},
   "outputs": [
    {
     "name": "stdout",
     "output_type": "stream",
     "text": [
      "Sales predicted is: $8.595125894224179K\n"
     ]
    }
   ],
   "source": [
    "X1 = 14 #TV\n",
    "X2 = 29 # News\n",
    "X3 = 312 # Radio\n",
    "\n",
    "inp_val = np.array([X1, X2, X3]).reshape(-1, 3)\n",
    "output = model.predict(inp_val)[0]\n",
    "output = (output)\n",
    "print(f\"Sales predicted is: ${output}K\")"
   ]
  },
  {
   "cell_type": "code",
   "execution_count": null,
   "id": "7ffb81c1",
   "metadata": {},
   "outputs": [],
   "source": []
  },
  {
   "cell_type": "code",
   "execution_count": null,
   "id": "8b89b169",
   "metadata": {},
   "outputs": [],
   "source": []
  },
  {
   "cell_type": "code",
   "execution_count": null,
   "id": "0b8ebf60",
   "metadata": {},
   "outputs": [],
   "source": []
  },
  {
   "cell_type": "markdown",
   "id": "d01e86af",
   "metadata": {},
   "source": [
    "## Complete and do an application\n",
    "\n",
    "* Logistic Regression\n",
    "* Decision Tree\n",
    "* SVM\n",
    "* Naive Bayes\n",
    "* kNN\n",
    "* K-Means\n",
    "* Random Forest\n",
    "* Dimensionality Reduction Algorithms\n",
    "* Gradient Boosting algorithms\n",
    "* GBM\n",
    "* XGBoost\n",
    "* LightGBM\n",
    "* CatBoost"
   ]
  },
  {
   "cell_type": "code",
   "execution_count": null,
   "id": "41cfdcf6",
   "metadata": {},
   "outputs": [],
   "source": []
  }
 ],
 "metadata": {
  "kernelspec": {
   "display_name": "venv",
   "language": "python",
   "name": "venv"
  },
  "language_info": {
   "codemirror_mode": {
    "name": "ipython",
    "version": 3
   },
   "file_extension": ".py",
   "mimetype": "text/x-python",
   "name": "python",
   "nbconvert_exporter": "python",
   "pygments_lexer": "ipython3",
   "version": "3.6.9"
  }
 },
 "nbformat": 4,
 "nbformat_minor": 5
}
