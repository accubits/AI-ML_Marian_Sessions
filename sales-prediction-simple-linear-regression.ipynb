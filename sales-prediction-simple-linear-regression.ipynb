{
 "cells": [
  {
   "cell_type": "markdown",
   "metadata": {
    "_uuid": "d98e260fd46b2018f8235d76d6b46d6e149ded86"
   },
   "source": [
    "# Sales Prediction"
   ]
  },
  {
   "cell_type": "markdown",
   "metadata": {
    "_uuid": "eb75d57ef5c0c094eb265c3fb4ef77b8f8c73dce"
   },
   "source": [
    "### Problem Statement\n",
    "\n",
    "Build a model which predicts sales based on the money spent on different platforms for marketing.\n",
    "\n",
    "### Data\n",
    "Use the advertising dataset given in ISLR and analyse the relationship between 'TV advertising' and 'sales' using a simple linear regression model. \n",
    "\n",
    "In this notebook, we'll build a linear regression model to predict `Sales` using an appropriate predictor variable."
   ]
  },
  {
   "cell_type": "markdown",
   "metadata": {
    "_uuid": "fab1024005bc13658e3ef2f8a2e46971881bc3ef"
   },
   "source": [
    "## Reading and Understanding the Data"
   ]
  },
  {
   "cell_type": "code",
   "execution_count": 1,
   "metadata": {
    "_uuid": "d68008018678c65564ddda5994cb05129f3ca72b"
   },
   "outputs": [],
   "source": [
    "# Supress Warnings\n",
    "\n",
    "import warnings\n",
    "warnings.filterwarnings('ignore')\n",
    "\n",
    "# Import the numpy and pandas package\n",
    "\n",
    "import numpy as np\n",
    "import pandas as pd\n",
    "\n",
    "# Data Visualisation\n",
    "import matplotlib.pyplot as plt \n",
    "import seaborn as sns"
   ]
  },
  {
   "cell_type": "code",
   "execution_count": 2,
   "metadata": {
    "_uuid": "1365d38deb407ea9c0f4e93830c5f9d4d65ebd9d"
   },
   "outputs": [
    {
     "data": {
      "text/html": [
       "<div>\n",
       "<style scoped>\n",
       "    .dataframe tbody tr th:only-of-type {\n",
       "        vertical-align: middle;\n",
       "    }\n",
       "\n",
       "    .dataframe tbody tr th {\n",
       "        vertical-align: top;\n",
       "    }\n",
       "\n",
       "    .dataframe thead th {\n",
       "        text-align: right;\n",
       "    }\n",
       "</style>\n",
       "<table border=\"1\" class=\"dataframe\">\n",
       "  <thead>\n",
       "    <tr style=\"text-align: right;\">\n",
       "      <th></th>\n",
       "      <th>TV</th>\n",
       "      <th>Radio</th>\n",
       "      <th>Newspaper</th>\n",
       "      <th>Sales</th>\n",
       "    </tr>\n",
       "  </thead>\n",
       "  <tbody>\n",
       "    <tr>\n",
       "      <th>0</th>\n",
       "      <td>230.1</td>\n",
       "      <td>37.8</td>\n",
       "      <td>69.2</td>\n",
       "      <td>22.1</td>\n",
       "    </tr>\n",
       "    <tr>\n",
       "      <th>1</th>\n",
       "      <td>44.5</td>\n",
       "      <td>39.3</td>\n",
       "      <td>45.1</td>\n",
       "      <td>10.4</td>\n",
       "    </tr>\n",
       "    <tr>\n",
       "      <th>2</th>\n",
       "      <td>17.2</td>\n",
       "      <td>45.9</td>\n",
       "      <td>69.3</td>\n",
       "      <td>12.0</td>\n",
       "    </tr>\n",
       "    <tr>\n",
       "      <th>3</th>\n",
       "      <td>151.5</td>\n",
       "      <td>41.3</td>\n",
       "      <td>58.5</td>\n",
       "      <td>16.5</td>\n",
       "    </tr>\n",
       "    <tr>\n",
       "      <th>4</th>\n",
       "      <td>180.8</td>\n",
       "      <td>10.8</td>\n",
       "      <td>58.4</td>\n",
       "      <td>17.9</td>\n",
       "    </tr>\n",
       "  </tbody>\n",
       "</table>\n",
       "</div>"
      ],
      "text/plain": [
       "      TV  Radio  Newspaper  Sales\n",
       "0  230.1   37.8       69.2   22.1\n",
       "1   44.5   39.3       45.1   10.4\n",
       "2   17.2   45.9       69.3   12.0\n",
       "3  151.5   41.3       58.5   16.5\n",
       "4  180.8   10.8       58.4   17.9"
      ]
     },
     "execution_count": 2,
     "metadata": {},
     "output_type": "execute_result"
    }
   ],
   "source": [
    "advertising = pd.DataFrame(pd.read_csv(\"Data/simple_lr_application/advertising.csv\"))\n",
    "advertising.head()"
   ]
  },
  {
   "cell_type": "markdown",
   "metadata": {
    "_uuid": "39753c6695c9c1fb90e9d0bbbba0bf8c09b600c2"
   },
   "source": [
    "## Data Inspection"
   ]
  },
  {
   "cell_type": "code",
   "execution_count": 3,
   "metadata": {
    "_uuid": "4f36948806d235d179b1a5c6b6c990a41afc6e4a",
    "scrolled": true
   },
   "outputs": [
    {
     "data": {
      "text/plain": [
       "(200, 4)"
      ]
     },
     "execution_count": 3,
     "metadata": {},
     "output_type": "execute_result"
    }
   ],
   "source": [
    "advertising.shape"
   ]
  },
  {
   "cell_type": "code",
   "execution_count": 4,
   "metadata": {
    "_uuid": "9578033b7d507aa4d901b48de36931066cc00241"
   },
   "outputs": [
    {
     "name": "stdout",
     "output_type": "stream",
     "text": [
      "<class 'pandas.core.frame.DataFrame'>\n",
      "RangeIndex: 200 entries, 0 to 199\n",
      "Data columns (total 4 columns):\n",
      " #   Column     Non-Null Count  Dtype  \n",
      "---  ------     --------------  -----  \n",
      " 0   TV         200 non-null    float64\n",
      " 1   Radio      200 non-null    float64\n",
      " 2   Newspaper  200 non-null    float64\n",
      " 3   Sales      200 non-null    float64\n",
      "dtypes: float64(4)\n",
      "memory usage: 6.4 KB\n"
     ]
    }
   ],
   "source": [
    "advertising.info()"
   ]
  },
  {
   "cell_type": "code",
   "execution_count": 5,
   "metadata": {
    "_uuid": "b817b9601c376627448453b03d79bf8f9dd02eac"
   },
   "outputs": [
    {
     "data": {
      "text/html": [
       "<div>\n",
       "<style scoped>\n",
       "    .dataframe tbody tr th:only-of-type {\n",
       "        vertical-align: middle;\n",
       "    }\n",
       "\n",
       "    .dataframe tbody tr th {\n",
       "        vertical-align: top;\n",
       "    }\n",
       "\n",
       "    .dataframe thead th {\n",
       "        text-align: right;\n",
       "    }\n",
       "</style>\n",
       "<table border=\"1\" class=\"dataframe\">\n",
       "  <thead>\n",
       "    <tr style=\"text-align: right;\">\n",
       "      <th></th>\n",
       "      <th>TV</th>\n",
       "      <th>Radio</th>\n",
       "      <th>Newspaper</th>\n",
       "      <th>Sales</th>\n",
       "    </tr>\n",
       "  </thead>\n",
       "  <tbody>\n",
       "    <tr>\n",
       "      <th>count</th>\n",
       "      <td>200.000000</td>\n",
       "      <td>200.000000</td>\n",
       "      <td>200.000000</td>\n",
       "      <td>200.000000</td>\n",
       "    </tr>\n",
       "    <tr>\n",
       "      <th>mean</th>\n",
       "      <td>147.042500</td>\n",
       "      <td>23.264000</td>\n",
       "      <td>30.554000</td>\n",
       "      <td>15.130500</td>\n",
       "    </tr>\n",
       "    <tr>\n",
       "      <th>std</th>\n",
       "      <td>85.854236</td>\n",
       "      <td>14.846809</td>\n",
       "      <td>21.778621</td>\n",
       "      <td>5.283892</td>\n",
       "    </tr>\n",
       "    <tr>\n",
       "      <th>min</th>\n",
       "      <td>0.700000</td>\n",
       "      <td>0.000000</td>\n",
       "      <td>0.300000</td>\n",
       "      <td>1.600000</td>\n",
       "    </tr>\n",
       "    <tr>\n",
       "      <th>25%</th>\n",
       "      <td>74.375000</td>\n",
       "      <td>9.975000</td>\n",
       "      <td>12.750000</td>\n",
       "      <td>11.000000</td>\n",
       "    </tr>\n",
       "    <tr>\n",
       "      <th>50%</th>\n",
       "      <td>149.750000</td>\n",
       "      <td>22.900000</td>\n",
       "      <td>25.750000</td>\n",
       "      <td>16.000000</td>\n",
       "    </tr>\n",
       "    <tr>\n",
       "      <th>75%</th>\n",
       "      <td>218.825000</td>\n",
       "      <td>36.525000</td>\n",
       "      <td>45.100000</td>\n",
       "      <td>19.050000</td>\n",
       "    </tr>\n",
       "    <tr>\n",
       "      <th>max</th>\n",
       "      <td>296.400000</td>\n",
       "      <td>49.600000</td>\n",
       "      <td>114.000000</td>\n",
       "      <td>27.000000</td>\n",
       "    </tr>\n",
       "  </tbody>\n",
       "</table>\n",
       "</div>"
      ],
      "text/plain": [
       "               TV       Radio   Newspaper       Sales\n",
       "count  200.000000  200.000000  200.000000  200.000000\n",
       "mean   147.042500   23.264000   30.554000   15.130500\n",
       "std     85.854236   14.846809   21.778621    5.283892\n",
       "min      0.700000    0.000000    0.300000    1.600000\n",
       "25%     74.375000    9.975000   12.750000   11.000000\n",
       "50%    149.750000   22.900000   25.750000   16.000000\n",
       "75%    218.825000   36.525000   45.100000   19.050000\n",
       "max    296.400000   49.600000  114.000000   27.000000"
      ]
     },
     "execution_count": 5,
     "metadata": {},
     "output_type": "execute_result"
    }
   ],
   "source": [
    "advertising.describe()"
   ]
  },
  {
   "cell_type": "markdown",
   "metadata": {
    "_uuid": "fab7463f8ed5eb55f1357db16c69204351295edf"
   },
   "source": [
    "## Data Cleaning"
   ]
  },
  {
   "cell_type": "code",
   "execution_count": 6,
   "metadata": {
    "_uuid": "cf9580e58b78c0558d96f54272701b6d2d32a018"
   },
   "outputs": [
    {
     "data": {
      "text/plain": [
       "TV           0.0\n",
       "Radio        0.0\n",
       "Newspaper    0.0\n",
       "Sales        0.0\n",
       "dtype: float64"
      ]
     },
     "execution_count": 6,
     "metadata": {},
     "output_type": "execute_result"
    }
   ],
   "source": [
    "# Checking Null values\n",
    "advertising.isnull().sum()*100/advertising.shape[0]\n",
    "# There are no NULL values in the dataset, hence it is clean."
   ]
  },
  {
   "cell_type": "code",
   "execution_count": 7,
   "metadata": {
    "_uuid": "c427a8e8a84e617eccdeda7df5eccd25f740f25d"
   },
   "outputs": [
    {
     "data": {
      "image/png": "[encoded data removed]",
      "text/plain": [
       "<Figure size 360x360 with 3 Axes>"
      ]
     },
     "metadata": {
      "needs_background": "light"
     },
     "output_type": "display_data"
    }
   ],
   "source": [
    "# Outlier Analysis\n",
    "fig, axs = plt.subplots(3, figsize = (5,5))\n",
    "plt1 = sns.boxplot(advertising['TV'], ax = axs[0])\n",
    "plt2 = sns.boxplot(advertising['Newspaper'], ax = axs[1])\n",
    "plt3 = sns.boxplot(advertising['Radio'], ax = axs[2])\n",
    "plt.tight_layout()"
   ]
  },
  {
   "cell_type": "code",
   "execution_count": 8,
   "metadata": {
    "_uuid": "3f18bb0cc6014b12746f45ea30a7b769a59ad1a4"
   },
   "outputs": [],
   "source": [
    "# There are no considerable outliers present in the data."
   ]
  },
  {
   "cell_type": "markdown",
   "metadata": {
    "_uuid": "81898c048d2b70a32615965535f9b7a6fdc626ae"
   },
   "source": [
    "## Exploratory Data Analysis"
   ]
  },
  {
   "cell_type": "markdown",
   "metadata": {
    "_uuid": "d2ac5e56f61c3c9517621ad569068bbdcd65b8dd"
   },
   "source": [
    "### Univariate Analysis"
   ]
  },
  {
   "cell_type": "markdown",
   "metadata": {
    "_uuid": "7ebb232846d9ae796b258eb26642ef73ca2dcacc"
   },
   "source": [
    "#### Sales (Target Variable)"
   ]
  },
  {
   "cell_type": "code",
   "execution_count": 9,
   "metadata": {
    "_uuid": "d435bd318677f7a4234bf02efdf54aa19e8b2c16"
   },
   "outputs": [
    {
     "data": {
      "image/png": "[encoded data removed]",
      "text/plain": [
       "<Figure size 432x288 with 1 Axes>"
      ]
     },
     "metadata": {
      "needs_background": "light"
     },
     "output_type": "display_data"
    }
   ],
   "source": [
    "sns.boxplot(advertising['Sales'])\n",
    "plt.show()"
   ]
  },
  {
   "cell_type": "code",
   "execution_count": 10,
   "metadata": {
    "_uuid": "2d6f716ebe182a58f9941c059256a09cc7f03703"
   },
   "outputs": [
    {
     "data": {
      "image/png": "[encoded data removed]",
      "text/plain": [
       "<Figure size 864x288 with 3 Axes>"
      ]
     },
     "metadata": {
      "needs_background": "light"
     },
     "output_type": "display_data"
    }
   ],
   "source": [
    "# Let's see how Sales are related with other variables using scatter plot.\n",
    "sns.pairplot(advertising, x_vars=['TV', 'Newspaper', 'Radio'], y_vars='Sales', height=4, aspect=1, kind='scatter')\n",
    "plt.show()"
   ]
  },
  {
   "cell_type": "code",
   "execution_count": 11,
   "metadata": {
    "_uuid": "ea27ea99e47d578866a706f437d74a8fe1ad2264"
   },
   "outputs": [
    {
     "data": {
      "image/png": "[encoded data removed]",
      "text/plain": [
       "<Figure size 432x288 with 2 Axes>"
      ]
     },
     "metadata": {
      "needs_background": "light"
     },
     "output_type": "display_data"
    }
   ],
   "source": [
    "# Let's see the correlation between different variables.\n",
    "sns.heatmap(advertising.corr(), cmap=\"YlGnBu\", annot = True)\n",
    "plt.show()"
   ]
  },
  {
   "cell_type": "markdown",
   "metadata": {
    "_uuid": "de3f5b90d0b6165958efcf1a31b80141867987fe"
   },
   "source": [
    "As is visible from the pairplot and the heatmap, the variable `TV` seems to be most correlated with `Sales`. So let's go ahead and perform simple linear regression using `TV` as our feature variable."
   ]
  },
  {
   "cell_type": "markdown",
   "metadata": {
    "_uuid": "1c10d5d48b611a9c66e1c99e66c44f6b36191a92"
   },
   "source": [
    "## Model Building"
   ]
  },
  {
   "cell_type": "markdown",
   "metadata": {
    "_uuid": "6d593021918853ea7402f5efa6348425481dd538"
   },
   "source": [
    "### Performing Simple Linear Regression"
   ]
  },
  {
   "cell_type": "markdown",
   "metadata": {
    "_uuid": "596550475e9050e4413572b184f66ddf74764878"
   },
   "source": [
    "Equation of linear regression<br>\n",
    "$y = c + m_1x_1 + m_2x_2 + ... + m_nx_n$\n",
    "\n",
    "-  $y$ is the response\n",
    "-  $c$ is the intercept\n",
    "-  $m_1$ is the coefficient for the first feature\n",
    "-  $m_n$ is the coefficient for the nth feature<br>\n",
    "\n",
    "In our case:\n",
    "\n",
    "$y = c + m_1 \\times TV$\n",
    "\n",
    "The $m$ values are called the model **coefficients** or **model parameters**.\n",
    "\n",
    "---"
   ]
  },
  {
   "cell_type": "markdown",
   "metadata": {
    "_uuid": "fe62b625cb69b757c37930b85ffc1b4b4805f4ca"
   },
   "source": [
    "### Generic Steps in model building using `statsmodels`\n",
    "\n",
    "We first assign the feature variable, `TV`, in this case, to the variable `X` and the response variable, `Sales`, to the variable `y`."
   ]
  },
  {
   "cell_type": "code",
   "execution_count": 12,
   "metadata": {
    "_uuid": "ae7285c79fd678fad0ee4fb18f8923daf024838b"
   },
   "outputs": [],
   "source": [
    "X = advertising['TV'].values\n",
    "y = advertising['Sales'].values"
   ]
  },
  {
   "cell_type": "markdown",
   "metadata": {
    "_uuid": "b3d9b88574b3b83dd47e7e0425c8e627443c4ec3"
   },
   "source": [
    "#### Train-Test Split\n",
    "\n",
    "You now need to split our variable into training and testing sets. You'll perform this by importing `train_test_split` from the `sklearn.model_selection` library. It is usually a good practice to keep 70% of the data in your train dataset and the rest 30% in your test dataset"
   ]
  },
  {
   "cell_type": "code",
   "execution_count": 13,
   "metadata": {
    "_uuid": "997311202075aaa98631ef95c1a0d91cdbefa2af"
   },
   "outputs": [],
   "source": [
    "# Splitting the dataset into the Training set and Test set\n",
    "from sklearn.model_selection import train_test_split\n",
    "\n",
    "X_train, X_test, y_train, y_test = train_test_split(X, y, test_size = 1/3, random_state = 0)"
   ]
  },
  {
   "cell_type": "code",
   "execution_count": 14,
   "metadata": {
    "_uuid": "07e568ebfdb6c838568e2df3dfd5fd0acadc7184"
   },
   "outputs": [
    {
     "data": {
      "text/plain": [
       "array([163.5, 100.4,  76.3, 184.9, 134.3, 273.7, 296.4,  96.2, 109.8,\n",
       "       255.4])"
      ]
     },
     "execution_count": 14,
     "metadata": {},
     "output_type": "execute_result"
    }
   ],
   "source": [
    "# Let's now take a look at the train dataset\n",
    "\n",
    "X_train[:10]"
   ]
  },
  {
   "cell_type": "code",
   "execution_count": 15,
   "metadata": {
    "_uuid": "873156cc1e983a63bfea8b5947bfb91e6992a7f5"
   },
   "outputs": [
    {
     "data": {
      "text/plain": [
       "array([18. , 10.7, 12. , 20.7, 14. , 20.8, 23.8, 12.3, 16.7, 19.8])"
      ]
     },
     "execution_count": 15,
     "metadata": {},
     "output_type": "execute_result"
    }
   ],
   "source": [
    "y_train[:10]"
   ]
  },
  {
   "cell_type": "markdown",
   "metadata": {
    "_uuid": "a53ec07eb3235dca5ca72cc9c2f6ca0634a33a09"
   },
   "source": [
    "#### Building a Linear Model\n",
    "\n",
    "You first need to import the `statsmodel.api` library using which you'll perform the linear regression."
   ]
  },
  {
   "cell_type": "code",
   "execution_count": 16,
   "metadata": {
    "_uuid": "226e3704ff6b78a47273fd816009f9c30b8f0a81"
   },
   "outputs": [
    {
     "name": "stdout",
     "output_type": "stream",
     "text": [
      "Accuracy Score is: 0.8102244046579714\n"
     ]
    }
   ],
   "source": [
    "# Fitting Simple Linear Regression to the Training set\n",
    "from sklearn.linear_model import LinearRegression\n",
    "\n",
    "\n",
    "regressor = LinearRegression()\n",
    "regressor.fit(X_train.reshape(-1, 1), y_train.reshape(-1, 1))\n",
    "\n",
    "print(f\"Accuracy Score is: {regressor.score(X_train.reshape(-1, 1), y_train.reshape(-1, 1))}\")"
   ]
  },
  {
   "cell_type": "code",
   "execution_count": 17,
   "metadata": {
    "_uuid": "6e0dc97a88b9fc1d4e975c2fe511e59bd0cd2b8a",
    "scrolled": true
   },
   "outputs": [
    {
     "data": {
      "image/png": "[encoded data removed]",
      "text/plain": [
       "<Figure size 432x288 with 1 Axes>"
      ]
     },
     "metadata": {
      "needs_background": "light"
     },
     "output_type": "display_data"
    }
   ],
   "source": [
    "y_train_predicted = regressor.predict(X_train.reshape(-1, 1))\n",
    "\n",
    "plt.scatter(X_train, y_train)\n",
    "plt.plot(X_train, y_train_predicted, 'r')\n",
    "plt.show()"
   ]
  },
  {
   "cell_type": "markdown",
   "metadata": {
    "_uuid": "70d9188db6c5b404c66c0a1bc2b9002a86121318"
   },
   "source": [
    "### Predictions on the Test Set"
   ]
  },
  {
   "cell_type": "markdown",
   "metadata": {
    "_uuid": "a88d571a4e726470bb1af84b6197e7065bcd23d4"
   },
   "source": [
    "Now that you have fitted a regression line on your train dataset, it's time to make some predictions on the test data. For this, you first need to add a constant to the `X_test` data like you did for `X_train` and then you can simply go on and predict the y values corresponding to `X_test` using the `predict` attribute of the fitted regression line."
   ]
  },
  {
   "cell_type": "code",
   "execution_count": 18,
   "metadata": {
    "_uuid": "b80a766082e6c9c40c3f09499fec4cfc51f62763"
   },
   "outputs": [],
   "source": [
    "y_pred = regressor.predict(X_test.reshape(-1, 1))"
   ]
  },
  {
   "cell_type": "code",
   "execution_count": 19,
   "metadata": {
    "_uuid": "0b64c5e3173c685b0715a93f0a77c759e90b2dff"
   },
   "outputs": [
    {
     "data": {
      "text/plain": [
       "array([[10.93411499],\n",
       "       [ 9.86759305],\n",
       "       [12.11173297],\n",
       "       [23.18245294],\n",
       "       [16.5444648 ],\n",
       "       [10.21199076],\n",
       "       [ 7.57345991],\n",
       "       [20.42727125],\n",
       "       [ 8.41223498],\n",
       "       [18.06648049]])"
      ]
     },
     "execution_count": 19,
     "metadata": {},
     "output_type": "execute_result"
    }
   ],
   "source": [
    "y_pred[:10]"
   ]
  },
  {
   "cell_type": "code",
   "execution_count": 20,
   "metadata": {
    "_uuid": "f67e3bf11f1ab0670339d4496a4b42df11d1b0cf"
   },
   "outputs": [],
   "source": [
    "from sklearn.metrics import mean_squared_error\n",
    "from sklearn.metrics import r2_score"
   ]
  },
  {
   "cell_type": "markdown",
   "metadata": {
    "_uuid": "3d4c698357ac5a9b1dc5e82862c081a2843e8c2b"
   },
   "source": [
    "##### Looking at the RMSE"
   ]
  },
  {
   "cell_type": "code",
   "execution_count": 21,
   "metadata": {
    "_uuid": "58863bc73dfa751e6bade66b3b71f80be51d9ca6"
   },
   "outputs": [
    {
     "data": {
      "text/plain": [
       "0.8098217586627827"
      ]
     },
     "execution_count": 21,
     "metadata": {},
     "output_type": "execute_result"
    }
   ],
   "source": [
    "#Returns the mean squared error; we'll take a square root\n",
    "np.sqrt(mean_squared_error(y_test, y_pred))\n",
    "r2_score(y_test, y_pred)"
   ]
  },
  {
   "cell_type": "markdown",
   "metadata": {
    "_uuid": "743c7b8425082fbb0a6811f2405fb7a4c1fa5a1f"
   },
   "source": [
    "##### Visualizing the fit on the test set"
   ]
  },
  {
   "cell_type": "code",
   "execution_count": 22,
   "metadata": {
    "_uuid": "eb08ac34d4e148e3221adfe126072f108adbfa24",
    "scrolled": true
   },
   "outputs": [
    {
     "data": {
      "image/png": "[encoded data removed]",
      "text/plain": [
       "<Figure size 432x288 with 1 Axes>"
      ]
     },
     "metadata": {
      "needs_background": "light"
     },
     "output_type": "display_data"
    }
   ],
   "source": [
    "plt.scatter(X_test, y_test)\n",
    "plt.plot(X_test, y_pred, 'r')\n",
    "plt.show()"
   ]
  },
  {
   "cell_type": "markdown",
   "metadata": {},
   "source": [
    "## Individual Prediction"
   ]
  },
  {
   "cell_type": "code",
   "execution_count": 23,
   "metadata": {},
   "outputs": [],
   "source": [
    "TV_commercial = 100"
   ]
  },
  {
   "cell_type": "code",
   "execution_count": 26,
   "metadata": {},
   "outputs": [
    {
     "data": {
      "text/plain": [
       "array([[12.64499394]])"
      ]
     },
     "execution_count": 26,
     "metadata": {},
     "output_type": "execute_result"
    }
   ],
   "source": [
    "req_inp = np.array(TV_commercial).reshape(-1, 1)\n",
    "output = regressor.predict(req_inp)\n",
    "\n",
    "output"
   ]
  },
  {
   "cell_type": "code",
   "execution_count": 25,
   "metadata": {},
   "outputs": [
    {
     "ename": "SyntaxError",
     "evalue": "invalid syntax (<ipython-input-25-4b37ef281455>, line 1)",
     "output_type": "error",
     "traceback": [
      "\u001b[0;36m  File \u001b[0;32m\"<ipython-input-25-4b37ef281455>\"\u001b[0;36m, line \u001b[0;32m1\u001b[0m\n\u001b[0;31m    |\u001b[0m\n\u001b[0m    ^\u001b[0m\n\u001b[0;31mSyntaxError\u001b[0m\u001b[0;31m:\u001b[0m invalid syntax\n"
     ]
    }
   ],
   "source": []
  }
 ],
 "metadata": {
  "kernelspec": {
   "display_name": "Python 3",
   "language": "python",
   "name": "python3"
  },
  "language_info": {
   "codemirror_mode": {
    "name": "ipython",
    "version": 3
   },
   "file_extension": ".py",
   "mimetype": "text/x-python",
   "name": "python",
   "nbconvert_exporter": "python",
   "pygments_lexer": "ipython3",
   "version": "3.6.9"
  }
 },
 "nbformat": 4,
 "nbformat_minor": 1
}
